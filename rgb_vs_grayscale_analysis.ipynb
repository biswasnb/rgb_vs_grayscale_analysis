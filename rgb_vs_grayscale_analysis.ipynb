{
 "cells": [
  {
   "cell_type": "markdown",
   "metadata": {
    "id": "ruZpOodBOYBh"
   },
   "source": [
    "## RGB vs Grayscale Image Analysis"
   ]
  },
  {
   "cell_type": "code",
   "execution_count": null,
   "metadata": {
    "colab": {
     "base_uri": "https://localhost:8080/"
    },
    "id": "fPvnHwTMK3cE",
    "outputId": "1d3c4f62-2692-470f-f373-ea844cf1a510"
   },
   "outputs": [],
   "source": [
    "%matplotlib inline\n",
    "# display inside the code w/o\n",
    "import cv2\n",
    "import numpy as np\n",
    "import matplotlib.pyplot as plt\n",
    "\n",
    "img=cv2.imread(\"CV_image.jpg\")\n",
    "print(img.shape)\n",
    "print(img)"
   ]
  },
  {
   "cell_type": "code",
   "execution_count": null,
   "metadata": {
    "colab": {
     "background_save": true,
     "base_uri": "https://localhost:8080/",
     "height": 1000
    },
    "id": "ntcuz6uDMXfa",
    "outputId": "3a8da505-7656-4edd-9792-dfe6e4109536"
   },
   "outputs": [],
   "source": [
    "# GRAYSCALE\n",
    "img_grayscale=cv2.imread(\"CV_image.jpg\",0)\n",
    "print(img.shape)\n",
    "from google.colab.patches import cv2_imshow\n",
    "cv2_imshow(img_grayscale)"
   ]
  },
  {
   "cell_type": "code",
   "execution_count": null,
   "metadata": {
    "colab": {
     "base_uri": "https://localhost:8080/",
     "height": 1000
    },
    "id": "_0wsz17xNQt5",
    "outputId": "02d3e19c-bcc0-4bd8-8121-f31e30550f7a"
   },
   "outputs": [],
   "source": [
    "img[:,:,0]=0\n",
    "img[:,:,1]=0\n",
    "cv2_imshow(img)"
   ]
  },
  {
   "cell_type": "code",
   "execution_count": null,
   "metadata": {
    "colab": {
     "base_uri": "https://localhost:8080/",
     "height": 1000
    },
    "id": "BARFpD8LO78w",
    "outputId": "1610d277-1006-4cac-9bfe-ab3317365354"
   },
   "outputs": [],
   "source": [
    "img=cv2.imread(\"CV_image.jpg\")\n",
    "print(img.shape)\n",
    "img[:,:,0]=0\n",
    "img[:,:,2]=0\n",
    "cv2_imshow(img)"
   ]
  },
  {
   "cell_type": "code",
   "execution_count": null,
   "metadata": {
    "colab": {
     "base_uri": "https://localhost:8080/",
     "height": 1000
    },
    "id": "RusJcd18PTwt",
    "outputId": "2aac3a2a-64ce-49ff-9864-b70622dca30d"
   },
   "outputs": [],
   "source": [
    "img=cv2.imread(\"CV_image.jpg\")\n",
    "print(img.shape)\n",
    "img[:,:,1]=0\n",
    "img[:,:,2]=0\n",
    "cv2_imshow(img)"
   ]
  },
  {
   "cell_type": "code",
   "execution_count": null,
   "metadata": {
    "id": "sIC7XiJYP6Bq"
   },
   "outputs": [],
   "source": []
  }
 ],
 "metadata": {
  "colab": {
   "provenance": []
  },
  "kernelspec": {
   "display_name": "Python 3 (ipykernel)",
   "language": "python",
   "name": "python3"
  },
  "language_info": {
   "codemirror_mode": {
    "name": "ipython",
    "version": 3
   },
   "file_extension": ".py",
   "mimetype": "text/x-python",
   "name": "python",
   "nbconvert_exporter": "python",
   "pygments_lexer": "ipython3",
   "version": "3.9.7"
  }
 },
 "nbformat": 4,
 "nbformat_minor": 1
}
